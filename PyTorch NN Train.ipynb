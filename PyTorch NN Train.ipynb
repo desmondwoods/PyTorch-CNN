{
 "cells": [
  {
   "cell_type": "code",
   "execution_count": 1,
   "outputs": [
    {
     "name": "stdout",
     "output_type": "stream",
     "text": [
      "Requirement already satisfied: torch in /Users/desmond/miniforge3/lib/python3.9/site-packages (1.12.1)\r\n",
      "Requirement already satisfied: typing-extensions in /Users/desmond/miniforge3/lib/python3.9/site-packages (from torch) (4.3.0)\r\n"
     ]
    }
   ],
   "source": [
    "!pip install torch"
   ],
   "metadata": {
    "collapsed": false,
    "pycharm": {
     "name": "#%%\n"
    }
   }
  },
  {
   "cell_type": "code",
   "execution_count": 2,
   "outputs": [
    {
     "name": "stdout",
     "output_type": "stream",
     "text": [
      "Requirement already satisfied: torchvision in /Users/desmond/miniforge3/lib/python3.9/site-packages (0.13.1)\r\n",
      "Requirement already satisfied: numpy in /Users/desmond/miniforge3/lib/python3.9/site-packages (from torchvision) (1.22.3)\r\n",
      "Requirement already satisfied: typing-extensions in /Users/desmond/miniforge3/lib/python3.9/site-packages (from torchvision) (4.3.0)\r\n",
      "Requirement already satisfied: requests in /Users/desmond/miniforge3/lib/python3.9/site-packages (from torchvision) (2.28.0)\r\n",
      "Requirement already satisfied: pillow!=8.3.*,>=5.3.0 in /Users/desmond/miniforge3/lib/python3.9/site-packages (from torchvision) (9.2.0)\r\n",
      "Requirement already satisfied: torch in /Users/desmond/miniforge3/lib/python3.9/site-packages (from torchvision) (1.12.1)\r\n",
      "Requirement already satisfied: urllib3<1.27,>=1.21.1 in /Users/desmond/miniforge3/lib/python3.9/site-packages (from requests->torchvision) (1.26.9)\r\n",
      "Requirement already satisfied: certifi>=2017.4.17 in /Users/desmond/miniforge3/lib/python3.9/site-packages (from requests->torchvision) (2022.6.15)\r\n",
      "Requirement already satisfied: idna<4,>=2.5 in /Users/desmond/miniforge3/lib/python3.9/site-packages (from requests->torchvision) (3.3)\r\n",
      "Requirement already satisfied: charset-normalizer~=2.0.0 in /Users/desmond/miniforge3/lib/python3.9/site-packages (from requests->torchvision) (2.0.4)\r\n"
     ]
    }
   ],
   "source": [
    "!pip install torchvision"
   ],
   "metadata": {
    "collapsed": false,
    "pycharm": {
     "name": "#%%\n"
    }
   }
  },
  {
   "cell_type": "code",
   "execution_count": 3,
   "outputs": [],
   "source": [
    "from torch import nn, save, load\n",
    "from torch.optim import Adam\n",
    "from torch.utils.data import DataLoader\n",
    "from torchvision import datasets\n",
    "from torchvision.transforms import ToTensor"
   ],
   "metadata": {
    "collapsed": false,
    "pycharm": {
     "name": "#%%\n"
    }
   }
  },
  {
   "cell_type": "code",
   "execution_count": 4,
   "outputs": [],
   "source": [
    "# Get Data\n",
    "\n",
    "train = datasets.MNIST(root='data', download=True, train=True, transform=ToTensor())\n",
    "dataset = DataLoader(train, 32)"
   ],
   "metadata": {
    "collapsed": false,
    "pycharm": {
     "name": "#%%\n"
    }
   }
  },
  {
   "cell_type": "code",
   "execution_count": 5,
   "outputs": [],
   "source": [
    "# Image Classifier Class NN\n",
    "\n",
    "class ImageClassifier(nn.Module):\n",
    "    def __init__(self):\n",
    "        super().__init__()\n",
    "        self.model = nn.Sequential(\n",
    "            nn.Conv2d(1, 32, (3,3)),\n",
    "            nn.ReLU(),\n",
    "            nn.Conv2d(32, 64, (3, 3)),\n",
    "            nn.ReLU(),\n",
    "            nn.Conv2d(64, 64, (3, 3)),\n",
    "            nn.ReLU(),\n",
    "            nn.Flatten(),\n",
    "            nn.Linear(64*(28-6)*(28-6), 10)\n",
    "\n",
    "\n",
    "\n",
    "        )\n",
    "\n",
    "\n",
    "\n",
    "    def forward(self, x):\n",
    "        return self.model(x)"
   ],
   "metadata": {
    "collapsed": false,
    "pycharm": {
     "name": "#%%\n"
    }
   }
  },
  {
   "cell_type": "code",
   "execution_count": 6,
   "outputs": [],
   "source": [
    "# Instance of the NN, loss, optimizer\n",
    "\n",
    "clf = ImageClassifier().to('cpu')\n",
    "opt = Adam(clf.parameters(), lr=1e-3)\n",
    "loss_fn = nn.CrossEntropyLoss()"
   ],
   "metadata": {
    "collapsed": false,
    "pycharm": {
     "name": "#%%\n"
    }
   }
  },
  {
   "cell_type": "code",
   "execution_count": 7,
   "outputs": [
    {
     "name": "stdout",
     "output_type": "stream",
     "text": [
      "Epoch:0 loss is 0.013155343942344189\n",
      "Epoch:1 loss is 0.0020410511642694473\n",
      "Epoch:2 loss is 0.0068586221896111965\n",
      "Epoch:3 loss is 0.00033963576424866915\n",
      "Epoch:4 loss is 4.999213160772342e-06\n",
      "Epoch:5 loss is 4.272808837413322e-06\n",
      "Epoch:6 loss is 3.7997915569576435e-07\n",
      "Epoch:7 loss is 5.3657448006561026e-05\n",
      "Epoch:8 loss is 6.062331885914318e-05\n",
      "Epoch:9 loss is 8.195634393359796e-08\n"
     ]
    }
   ],
   "source": [
    "# Train Flow\n",
    "\n",
    "if __name__ == '__main__':\n",
    "    for epoch in range(10):\n",
    "        for batch in dataset:\n",
    "            X, y = batch\n",
    "            X, y = X.to('cpu'), y.to('cpu')\n",
    "            yhat = clf(X)\n",
    "            loss = loss_fn(yhat, y)\n",
    "\n",
    "            # Apply backdrop\n",
    "            opt.zero_grad()\n",
    "            loss.backward()\n",
    "            opt.step()\n",
    "\n",
    "        print(f'Epoch:{epoch} loss is {loss.item()}')\n",
    "\n",
    "    with open('model_state.pt', 'wb') as f:\n",
    "        save(clf.state_dict(), f)\n",
    "\n"
   ],
   "metadata": {
    "collapsed": false,
    "pycharm": {
     "name": "#%%\n"
    }
   }
  },
  {
   "cell_type": "code",
   "execution_count": 7,
   "outputs": [],
   "source": [],
   "metadata": {
    "collapsed": false,
    "pycharm": {
     "name": "#%%\n"
    }
   }
  }
 ],
 "metadata": {
  "kernelspec": {
   "display_name": "Python 3",
   "language": "python",
   "name": "python3"
  },
  "language_info": {
   "codemirror_mode": {
    "name": "ipython",
    "version": 2
   },
   "file_extension": ".py",
   "mimetype": "text/x-python",
   "name": "python",
   "nbconvert_exporter": "python",
   "pygments_lexer": "ipython2",
   "version": "2.7.6"
  }
 },
 "nbformat": 4,
 "nbformat_minor": 0
}